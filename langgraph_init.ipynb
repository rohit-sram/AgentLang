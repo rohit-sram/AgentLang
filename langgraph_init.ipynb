{
 "cells": [
  {
   "cell_type": "code",
   "execution_count": 1,
   "id": "a386fc0e",
   "metadata": {},
   "outputs": [],
   "source": [
    "from langgraph.graph import Graph"
   ]
  },
  {
   "cell_type": "code",
   "execution_count": 2,
   "id": "78ece484",
   "metadata": {},
   "outputs": [],
   "source": [
    "from langchain_groq import ChatGroq"
   ]
  },
  {
   "cell_type": "code",
   "execution_count": 3,
   "id": "3c8557cb",
   "metadata": {},
   "outputs": [],
   "source": [
    "import os\n",
    "from dotenv import load_dotenv\n",
    "\n",
    "load_dotenv()\n",
    "API_KEY = os.getenv(\"GROQ_API_KEY\")"
   ]
  },
  {
   "cell_type": "code",
   "execution_count": 4,
   "id": "6c2cad9b",
   "metadata": {},
   "outputs": [],
   "source": [
    "llm = ChatGroq(model='llama-3.1-8b-instant', api_key=API_KEY)"
   ]
  },
  {
   "cell_type": "code",
   "execution_count": 5,
   "id": "5887b527",
   "metadata": {},
   "outputs": [
    {
     "data": {
      "text/plain": [
       "\"I'm doing well, thanks for asking. I'm a large language model, so I don't have emotions or feelings like humans do, but I'm functioning properly and ready to help with any questions or tasks you may have. How about you? How's your day going?\""
      ]
     },
     "execution_count": 5,
     "metadata": {},
     "output_type": "execute_result"
    }
   ],
   "source": [
    "# llm.invoke(\"Hey, How are you?\")\n",
    "\n",
    "llm.invoke(\"Hey, How are you?\").content"
   ]
  },
  {
   "cell_type": "code",
   "execution_count": 6,
   "id": "185af2bd",
   "metadata": {},
   "outputs": [],
   "source": [
    "def invoke_fn(prompt):\n",
    "    llm = ChatGroq(model='llama-3.1-8b-instant', api_key=API_KEY)\n",
    "    response = llm.invoke(prompt).content\n",
    "    return response"
   ]
  },
  {
   "cell_type": "code",
   "execution_count": 7,
   "id": "42f6e433",
   "metadata": {},
   "outputs": [
    {
     "data": {
      "text/plain": [
       "'The capital of Nigeria is Abuja.'"
      ]
     },
     "execution_count": 7,
     "metadata": {},
     "output_type": "execute_result"
    }
   ],
   "source": [
    "invoke_fn(\"capital of nigeria\")"
   ]
  },
  {
   "cell_type": "code",
   "execution_count": 8,
   "id": "d791fd95",
   "metadata": {},
   "outputs": [],
   "source": [
    "def upper_text(input):\n",
    "    up_str = input.upper()\n",
    "    return up_str"
   ]
  },
  {
   "cell_type": "markdown",
   "id": "9905ec4e",
   "metadata": {},
   "source": [
    "### LangGraph Workflow\n",
    "\n",
    "- it starts with defining component functions for the Agent. (invoke_fn() and upper_text())\n",
    "- define langgraph.graph.Graph() \n",
    "- add nodes and edges into Graph()\n",
    "- finally, compile the Graph - with the nodes and edges\n",
    "\n",
    "After compiling, the Agent can be invoked - using invoke()"
   ]
  },
  {
   "cell_type": "code",
   "execution_count": 9,
   "id": "1cb77a39",
   "metadata": {},
   "outputs": [],
   "source": [
    "workflow = Graph()"
   ]
  },
  {
   "cell_type": "code",
   "execution_count": 10,
   "id": "8cbd4f3f",
   "metadata": {},
   "outputs": [
    {
     "data": {
      "text/plain": [
       "<langgraph.graph.graph.Graph at 0x10bb2be00>"
      ]
     },
     "execution_count": 10,
     "metadata": {},
     "output_type": "execute_result"
    }
   ],
   "source": [
    "workflow.add_node(\"invoke_fn\", invoke_fn)\n",
    "workflow.add_node(\"upper_text\", upper_text)"
   ]
  },
  {
   "cell_type": "code",
   "execution_count": 11,
   "id": "f532dcc3",
   "metadata": {},
   "outputs": [
    {
     "data": {
      "text/plain": [
       "<langgraph.graph.graph.Graph at 0x10bb2be00>"
      ]
     },
     "execution_count": 11,
     "metadata": {},
     "output_type": "execute_result"
    }
   ],
   "source": [
    "workflow.add_edge(\"invoke_fn\", \"upper_text\")\n",
    "workflow.add_edge(\"upper_text\", \"invoke_fn\")"
   ]
  },
  {
   "cell_type": "code",
   "execution_count": 12,
   "id": "d003afc5",
   "metadata": {},
   "outputs": [
    {
     "data": {
      "text/plain": [
       "<langgraph.graph.graph.Graph at 0x10bb2be00>"
      ]
     },
     "execution_count": 12,
     "metadata": {},
     "output_type": "execute_result"
    }
   ],
   "source": [
    "workflow.set_entry_point(\"invoke_fn\")\n",
    "# workflow.set_finish_point(\"up_str\")"
   ]
  },
  {
   "cell_type": "code",
   "execution_count": 13,
   "id": "0be06584",
   "metadata": {},
   "outputs": [],
   "source": [
    "app = workflow.compile()"
   ]
  },
  {
   "cell_type": "code",
   "execution_count": 14,
   "id": "32914df2",
   "metadata": {},
   "outputs": [
    {
     "data": {
      "image/png": "[encoded data removed]",
      "text/plain": [
       "<IPython.core.display.Image object>"
      ]
     },
     "metadata": {},
     "output_type": "display_data"
    }
   ],
   "source": [
    "from IPython.display import Image, display\n",
    "\n",
    "try:\n",
    "    display(Image(app.get_graph().draw_mermaid_png()))\n",
    "    \n",
    "except Exception as e:\n",
    "    print(e)"
   ]
  },
  {
   "cell_type": "code",
   "execution_count": null,
   "id": "0c7e7634",
   "metadata": {},
   "outputs": [],
   "source": []
  }
 ],
 "metadata": {
  "kernelspec": {
   "display_name": "Python 3",
   "language": "python",
   "name": "python3"
  },
  "language_info": {
   "codemirror_mode": {
    "name": "ipython",
    "version": 3
   },
   "file_extension": ".py",
   "mimetype": "text/x-python",
   "name": "python",
   "nbconvert_exporter": "python",
   "pygments_lexer": "ipython3",
   "version": "3.13.0"
  }
 },
 "nbformat": 4,
 "nbformat_minor": 5
}
